{
 "cells": [
  {
   "cell_type": "code",
   "execution_count": 1,
   "metadata": {},
   "outputs": [],
   "source": [
    "import json"
   ]
  },
  {
   "cell_type": "code",
   "execution_count": 10,
   "metadata": {},
   "outputs": [
    {
     "name": "stdout",
     "output_type": "stream",
     "text": [
      "Great, thank you for letting me know! As an account setup assistant, I'm here to help you set up your Instagram account and create content that resonates with your audience. To get started, can you tell me a bit about your target audience? Who are they, and what kind of content do they enjoy watching on Instagram Reels?\n",
      "{\n",
      "  \"messages\": [\n",
      "    {\n",
      "      \"user_content\": \"working\",\n",
      "      \"response_content\": \"Great, thank you for letting me know! As an account setup assistant, I'm here to help you set up your Instagram account and create content that resonates with your audience. To get started, can you tell me a bit about your target audience? Who are they, and what kind of content do they enjoy watching on Instagram Reels?\"\n",
      "    }\n",
      "  ]\n",
      "}\n"
     ]
    }
   ],
   "source": [
    "import json\n",
    "\n",
    "# Original JSON data\n",
    "original_json = '''\n",
    "{\n",
    "  \"messages\": [\n",
    "    {\n",
    "      \"content\": \"working\",\n",
    "      \"additional_kwargs\": {},\n",
    "      \"response_metadata\": {},\n",
    "      \"type\": \"human\",\n",
    "      \"name\": null,\n",
    "      \"id\": null,\n",
    "      \"example\": false\n",
    "    },\n",
    "    {\n",
    "      \"content\": \"Great, thank you for letting me know! As an account setup assistant, I'm here to help you set up your Instagram account and create content that resonates with your audience. To get started, can you tell me a bit about your target audience? Who are they, and what kind of content do they enjoy watching on Instagram Reels?\",\n",
    "      \"additional_kwargs\": {},\n",
    "      \"response_metadata\": {},\n",
    "      \"type\": \"ai\",\n",
    "      \"name\": null,\n",
    "      \"id\": null,\n",
    "      \"example\": false,\n",
    "      \"tool_calls\": [],\n",
    "      \"invalid_tool_calls\": [],\n",
    "      \"usage_metadata\": null\n",
    "    }\n",
    "  ]\n",
    "}\n",
    "'''\n",
    "\n",
    "# Convert JSON string to Python dictionary\n",
    "data = json.loads(original_json)\n",
    "\n",
    "# Extracting relevant fields into new structure\n",
    "formatted_messages = []\n",
    "for message in data['messages']:\n",
    "    if message['type'] == 'human':\n",
    "        user_content = message['content']\n",
    "        ai_response = next((msg['content'] for msg in data['messages'] if msg['type'] == 'ai'), None)\n",
    "        print(ai_response)\n",
    "        if ai_response:\n",
    "            formatted_messages.append({\n",
    "                \"user_content\": user_content,\n",
    "                \"response_content\": ai_response\n",
    "            })\n",
    "\n",
    "# Creating the desired JSON structure\n",
    "formatted_data = {\n",
    "    \"messages\": formatted_messages\n",
    "}\n",
    "\n",
    "# Convert Python dictionary back to JSON string\n",
    "formatted_json = json.dumps(formatted_data, indent=2)\n",
    "\n",
    "# Print or use formatted_json as needed\n",
    "print(formatted_json)"
   ]
  },
  {
   "cell_type": "code",
   "execution_count": null,
   "metadata": {},
   "outputs": [],
   "source": []
  }
 ],
 "metadata": {
  "kernelspec": {
   "display_name": "llm_env",
   "language": "python",
   "name": "python3"
  },
  "language_info": {
   "codemirror_mode": {
    "name": "ipython",
    "version": 3
   },
   "file_extension": ".py",
   "mimetype": "text/x-python",
   "name": "python",
   "nbconvert_exporter": "python",
   "pygments_lexer": "ipython3",
   "version": "3.12.3"
  }
 },
 "nbformat": 4,
 "nbformat_minor": 2
}
